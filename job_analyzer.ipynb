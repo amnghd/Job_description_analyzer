{
 "cells": [
  {
   "cell_type": "markdown",
   "metadata": {},
   "source": [
    "### Quick Language Proecessing on Job Descriptions\n",
    "\n",
    "This is a very short code, dedicated for text analyzing the job description. When you apply for companies, a lot of times your resume is first checked by a robot to make sure it contains the require skills.\n",
    "If you are confident with the level of skills you have, you need to also reflect the in your resume. You only need to copy and paste the job description into the ``job.txt`` file.\n",
    "Then you need to check which words are more important in the job decription and reflect them on your resume."
   ]
  },
  {
   "cell_type": "code",
   "execution_count": 1,
   "metadata": {
    "collapsed": true
   },
   "outputs": [],
   "source": [
    "import pandas as pd\n",
    "import numpy as np\n",
    "import re\n",
    "from collections import Counter\n",
    "import nltk"
   ]
  },
  {
   "cell_type": "code",
   "execution_count": 2,
   "metadata": {
    "collapsed": true
   },
   "outputs": [],
   "source": [
    "with open('job.txt', 'r') as myfile:\n",
    "    line = myfile.read().replace('\\n', ' ').replace(\",\",\"\").replace(\":\",\"\")\n",
    "    words = re.split('[\\t\\s:.]+', line)\n",
    "    \n",
    "job_set = set(words)"
   ]
  },
  {
   "cell_type": "code",
   "execution_count": 3,
   "metadata": {
    "collapsed": true
   },
   "outputs": [],
   "source": [
    "with open('sw.txt', 'r') as myfile:\n",
    "    sw = myfile.read().replace('\\n', ' ')\n",
    "    sw = re.split('[\\t\\s:.]+', sw)\n",
    "sw_set = set(sw)\n",
    "\n",
    "job_word_set = job_set - sw_set"
   ]
  },
  {
   "cell_type": "code",
   "execution_count": 4,
   "metadata": {
    "collapsed": true
   },
   "outputs": [],
   "source": [
    "good_words = [w.lower() for w in words if w in job_word_set]"
   ]
  },
  {
   "cell_type": "code",
   "execution_count": 6,
   "metadata": {
    "collapsed": false
   },
   "outputs": [],
   "source": [
    "freqdist = nltk.FreqDist(good_words)\n",
    "freq_dict = list(zip(freqdist.keys(), freqdist.values()))\n",
    "freq_dict.sort(key=lambda x: x[1], reverse=True)\n",
    "freq_dict = freq_dict[:200]\n",
    "\n",
    "labels = [x[0] for x in freq_dict]\n",
    "values = [x[1] for x in freq_dict]"
   ]
  },
  {
   "cell_type": "markdown",
   "metadata": {},
   "source": [
    "The following key value pairs demonstrates word frequency in a descending format. You need to make sure your resume contains the dominant skills. For example, this job description is from Apple Natural Language Processing job descrition. Going through the results, some skills that you need to have in your resume are:\n",
    "\n",
    "- ``natural language processing``\n",
    "- ``team work``\n",
    "- ``statistical analysis``\n",
    "- ``machine learning``\n",
    "- ``artificial intelligence``\n",
    "- ``A/B testing``\n",
    "- ``mapreduce, hadoop, hive, pig, spark``\n"
   ]
  },
  {
   "cell_type": "code",
   "execution_count": 7,
   "metadata": {
    "collapsed": false
   },
   "outputs": [
    {
     "name": "stdout",
     "output_type": "stream",
     "text": [
      "('data', 9) ('•', 8) ('learning', 6) ('siri', 5) ('science', 5) ('natural', 4) ('language', 4) ('work', 4) ('machine', 4) ('apple', 3) ('at', 3) ('large', 3) ('team', 3) ('experience', 3) ('ability', 3) ('scientist', 2) ('jobs', 2) ('part', 2) ('systems', 2) ('big', 2) ('intelligence', 2) ('people', 2) ('millions', 2) ('key', 2) ('statistical', 2) ('skills', 2) ('algorithms', 2) ('various', 2) ('and/or', 2) ('plus', 2) ('the', 2) ('end', 2) ('this', 2) ('(machine', 1) ('language)', 1) ('save', 1) ('a', 1) ('san', 1) ('jose', 1) ('ca', 1) ('apply', 1) ('apple-search', 1) ('my', 1) ('over', 1) ('1', 1) ('month', 1) ('agofull-time', 1) ('play', 1) ('ongoing', 1) ('revolution', 1) ('human-computer', 1) ('interaction', 1) ('contribute', 1) ('product', 1) ('redefining', 1) ('mobile', 1) ('computing', 1) ('create', 1) ('groundbreaking', 1) ('technology', 1) ('scale', 1) ('spoken', 1) ('processing', 1) ('artificial', 1) ('and', 1) ('created', 1) ('intelligent', 1) ('assistant', 1) ('helps', 1) ('get', 1) ('things', 1) ('done', 1) ('—', 1) ('just', 1) ('asking', 1) ('join', 1) ('qualifications', 1) ('proficiency', 1) ('analytics', 1) ('including', 1) ('analyses', 1) ('a/b', 1) ('testing', 1) ('designing', 1) ('conducting', 1) ('analyzing', 1) ('interpreting', 1) ('experiments', 1) ('investigations', 1) ('strong', 1) ('programming', 1) ('expert', 1) ('knowledge', 1) ('structures', 1) ('(python', 1) ('java', 1) ('equivalent)', 1) ('expertise', 1) ('facets', 1) ('processing;', 1) ('classification', 1) ('feature', 1) ('engineering', 1) ('information', 1) ('extraction', 1) ('structured', 1) ('prediction', 1) ('clustering', 1) ('semi-supervised', 1) ('topic', 1) ('modeling', 1) ('ranking', 1) ('excellent', 1) ('problem', 1) ('solving', 1) ('critical', 1) ('thinking', 1) ('creativity', 1) ('organizational', 1) ('design', 1) ('communication', 1) ('skills;', 1) ('interact', 1) ('levels', 1) ('engineers', 1) ('proven', 1) ('manage', 1) ('multiple', 1) ('projects', 1) ('strict', 1) ('deadlines', 1) ('prior', 1) ('applying', 1) ('tools', 1) ('(mapreduce', 1) ('hadoop', 1) ('hive', 1) ('pig', 1) ('spark)', 1) ('quantities', 1) ('textual', 1) ('coursework', 1) ('interest', 1) ('computational', 1) ('linguistics', 1) ('cognitive', 1) ('description', 1) ('goal', 1) ('take', 1) ('next', 1) ('level', 1) ('accuracy', 1) ('using', 1) ('advanced', 1) ('techniques', 1) ('role', 1) ('spectrum', 1) ('approaches', 1) ('improving', 1) ('one', 1) ('deriving', 1) ('insights', 1) ('amounts', 1) ('usage', 1) ('suggest', 1) ('new', 1) ('features', 1) ('fundamental', 1) ('improvements', 1) ('user', 1) ('core', 1) ('siri’s', 1) ('understand', 1) ('respond', 1) ('requests', 1) ('you', 1) ('passionate', 1) ('creating', 1) ('phenomenal', 1) ('products', 1) ('position', 1) ('involves', 1) ('wide', 1) ('variety', 1) ('innovation', 1) ('unique', 1) ('opportunity', 1) ('sits', 1) ('cutting-edge', 1) ('disciplines', 1) ('will', 1) ('huge', 1) ('impact', 1) ('hundreds', 1) ('users', 1) ('across', 1) ('globe', 1) ('education', 1) (\"master's\", 1) ('phd', 1)\n"
     ]
    }
   ],
   "source": [
    "print(*zip(labels, values))"
   ]
  },
  {
   "cell_type": "code",
   "execution_count": null,
   "metadata": {
    "collapsed": true
   },
   "outputs": [],
   "source": []
  }
 ],
 "metadata": {
  "kernelspec": {
   "display_name": "Python 3",
   "language": "python",
   "name": "python3"
  },
  "language_info": {
   "codemirror_mode": {
    "name": "ipython",
    "version": 3
   },
   "file_extension": ".py",
   "mimetype": "text/x-python",
   "name": "python",
   "nbconvert_exporter": "python",
   "pygments_lexer": "ipython3",
   "version": "3.6.0"
  }
 },
 "nbformat": 4,
 "nbformat_minor": 2
}
